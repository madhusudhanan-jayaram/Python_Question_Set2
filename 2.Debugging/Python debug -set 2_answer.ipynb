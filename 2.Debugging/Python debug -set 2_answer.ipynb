{
 "cells": [
  {
   "cell_type": "code",
   "execution_count": 22,
   "id": "cfdf52c2-0b57-44dd-aab6-6d328374ec46",
   "metadata": {},
   "outputs": [
    {
     "name": "stdout",
     "output_type": "stream",
     "text": [
      "4.0\n"
     ]
    }
   ],
   "source": [
    "#1.Find the error in the following Python code:\n",
    "# changed Math to lowercase\n",
    "import math\n",
    "print(math.sqrt(16))\n",
    "\n"
   ]
  },
  {
   "cell_type": "code",
   "execution_count": 23,
   "id": "6730eb76-dde0-475a-a6ea-468515e87380",
   "metadata": {},
   "outputs": [
    {
     "name": "stdout",
     "output_type": "stream",
     "text": [
      "15\n"
     ]
    }
   ],
   "source": [
    "#2.Find the error in the following Python code:\n",
    "# declar x as global variable\n",
    "def my_function():\n",
    "    global x\n",
    "    x += 5\n",
    "    print(x)\n",
    "\n",
    "x = 10\n",
    "my_function()\n"
   ]
  },
  {
   "cell_type": "code",
   "execution_count": 24,
   "id": "450d01b9-5f04-41d1-8ecb-61522786d4c2",
   "metadata": {},
   "outputs": [],
   "source": [
    "#3.x = 5\n",
    "# changed frm assignment operation to equality operator\n",
    "if x == 10:\n",
    "    print(\"x is 10\")"
   ]
  },
  {
   "cell_type": "code",
   "execution_count": 25,
   "id": "79ab1dce-f93c-4772-b0cf-30ceb7c8dbf9",
   "metadata": {},
   "outputs": [
    {
     "name": "stdout",
     "output_type": "stream",
     "text": [
      "None\n"
     ]
    }
   ],
   "source": [
    "#4.\n",
    "numbers = [5, 3, 8, 2]\n",
    "print(numbers.sort())\n"
   ]
  },
  {
   "cell_type": "code",
   "execution_count": 26,
   "id": "00d5db6b-5a38-4acf-aae7-6378ca69dc9c",
   "metadata": {},
   "outputs": [
    {
     "name": "stdout",
     "output_type": "stream",
     "text": [
      "[2, 3, 5, 8]\n"
     ]
    }
   ],
   "source": [
    "#.sort method returns non. Hence changed to numbers.sort method and print it in next line\n",
    "numbers = [5, 3, 8, 2]\n",
    "numbers.sort()\n",
    "print(numbers)"
   ]
  },
  {
   "cell_type": "code",
   "execution_count": 27,
   "id": "4ac6c19a-36d4-41bd-adb7-fb88616dde26",
   "metadata": {},
   "outputs": [
    {
     "name": "stdout",
     "output_type": "stream",
     "text": [
      "16\n"
     ]
    }
   ],
   "source": [
    "#5. Return the ouput in square method\n",
    "def square(n):\n",
    "    return n * n\n",
    "\n",
    "print(square(4))\n"
   ]
  },
  {
   "cell_type": "code",
   "execution_count": 28,
   "id": "a25d83c5-fe11-4c68-8e7c-c6b05c230887",
   "metadata": {},
   "outputs": [],
   "source": [
    "#6.\n",
    "my_tuple = (1, 5, 3)\n",
    "#my_tuple[1] = 5\n",
    "#tuples are immutable. Hence we can't change the value for tuples"
   ]
  },
  {
   "cell_type": "code",
   "execution_count": 29,
   "id": "da8073d8-585d-47ef-888f-fb0c7a80e015",
   "metadata": {},
   "outputs": [
    {
     "name": "stdout",
     "output_type": "stream",
     "text": [
      "My name is Alice and I am 25 years old\n"
     ]
    }
   ],
   "source": [
    "#7.\n",
    "name = \"Alice\"\n",
    "age = 25\n",
    "print(\"My name is %s and I am %d years old\" % (name,age))\n"
   ]
  },
  {
   "cell_type": "code",
   "execution_count": 35,
   "id": "3fe49b54-9645-4e31-90cc-e38b98810d64",
   "metadata": {},
   "outputs": [],
   "source": [
    "#8.=\n",
    "#answer: \n",
    "a = [1, 2, 3]\n",
    "b = [1, 2, 3]\n",
    "if a is b:\n",
    "    print(\"Lists are equal\")"
   ]
  },
  {
   "cell_type": "code",
   "execution_count": 36,
   "id": "fdf2aa77-e948-40b2-857e-e7a5e9b5540b",
   "metadata": {},
   "outputs": [
    {
     "name": "stdout",
     "output_type": "stream",
     "text": [
      "5\n",
      "4\n",
      "3\n",
      "2\n"
     ]
    }
   ],
   "source": [
    "#9.\n",
    "# added increasement (-1) in the for loop\n",
    "for i in range(5, 1, -1):\n",
    "    print(i)\n"
   ]
  },
  {
   "cell_type": "code",
   "execution_count": 34,
   "id": "9d5b9707-da57-4e62-8476-c918acc7c574",
   "metadata": {},
   "outputs": [],
   "source": [
    "#9.\n",
    "for i in range(5, 1):\n",
    "    print(i)\n"
   ]
  },
  {
   "cell_type": "code",
   "execution_count": 47,
   "id": "615e1194-dd2e-49f3-b953-6938351a2bd5",
   "metadata": {},
   "outputs": [
    {
     "name": "stdout",
     "output_type": "stream",
     "text": [
      "John\n"
     ]
    }
   ],
   "source": [
    "#name is treated as a variable, but you haven't defined a variable called name.\n",
    "\n",
    "student = {\"name\": \"John\", \"age\": 20}\n",
    "print(student[\"name\"])"
   ]
  },
  {
   "cell_type": "code",
   "execution_count": null,
   "id": "40e0de17-2fa5-4229-856a-badcaa6076ee",
   "metadata": {},
   "outputs": [],
   "source": []
  },
  {
   "cell_type": "code",
   "execution_count": null,
   "id": "372751fa-f8d3-4ea2-b1dd-2abbad6e4bed",
   "metadata": {},
   "outputs": [],
   "source": []
  },
  {
   "cell_type": "code",
   "execution_count": null,
   "id": "535a2cc0-d7fb-4443-bbf7-b183b033b141",
   "metadata": {},
   "outputs": [],
   "source": []
  }
 ],
 "metadata": {
  "kernelspec": {
   "display_name": "Python [conda env:base] *",
   "language": "python",
   "name": "conda-base-py"
  },
  "language_info": {
   "codemirror_mode": {
    "name": "ipython",
    "version": 3
   },
   "file_extension": ".py",
   "mimetype": "text/x-python",
   "name": "python",
   "nbconvert_exporter": "python",
   "pygments_lexer": "ipython3",
   "version": "3.12.7"
  }
 },
 "nbformat": 4,
 "nbformat_minor": 5
}
